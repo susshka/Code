{
 "cells": [
  {
   "cell_type": "code",
   "execution_count": 1,
   "id": "13dc3c72",
   "metadata": {},
   "outputs": [],
   "source": [
    "import numpy as np\n",
    "import pandas as pd\n",
    "from math import *\n",
    "data = pd.read_excel(\"https://github.com/junaart/ForStudents/blob/master/Big_Data/Zachet/DataSets/5.xlsx?raw=true\", sheet_name=\"Лист1\")\n",
    "D = data[['Sum-Avg-Р823']]\n"
   ]
  },
  {
   "cell_type": "code",
   "execution_count": 2,
   "id": "d96fc731",
   "metadata": {},
   "outputs": [
    {
     "data": {
      "text/html": [
       "<div>\n",
       "<style scoped>\n",
       "    .dataframe tbody tr th:only-of-type {\n",
       "        vertical-align: middle;\n",
       "    }\n",
       "\n",
       "    .dataframe tbody tr th {\n",
       "        vertical-align: top;\n",
       "    }\n",
       "\n",
       "    .dataframe thead th {\n",
       "        text-align: right;\n",
       "    }\n",
       "</style>\n",
       "<table border=\"1\" class=\"dataframe\">\n",
       "  <thead>\n",
       "    <tr style=\"text-align: right;\">\n",
       "      <th></th>\n",
       "      <th>town1</th>\n",
       "      <th>Sum-Avg-Р811</th>\n",
       "      <th>Sum-Avg-Р812</th>\n",
       "      <th>Sum-Avg-Р813</th>\n",
       "      <th>Sum-Avg-Р814</th>\n",
       "      <th>Sum-Avg-Р815</th>\n",
       "      <th>Sum-Avg-Р821</th>\n",
       "      <th>Sum-Avg-Р822</th>\n",
       "      <th>Sum-Avg-Р823</th>\n",
       "      <th>Sum-Avg-Р824</th>\n",
       "      <th>Sum-Avg-Р825</th>\n",
       "      <th>Sum-Avg-Р826</th>\n",
       "    </tr>\n",
       "  </thead>\n",
       "  <tbody>\n",
       "    <tr>\n",
       "      <th>0</th>\n",
       "      <td>Абакан</td>\n",
       "      <td>1.918825e+03</td>\n",
       "      <td>8954.6250</td>\n",
       "      <td>33.725000</td>\n",
       "      <td>1796.25000</td>\n",
       "      <td>11138.525000</td>\n",
       "      <td>2.541233e+04</td>\n",
       "      <td>130.3000</td>\n",
       "      <td>30.0000</td>\n",
       "      <td>18.850000</td>\n",
       "      <td>17.200000</td>\n",
       "      <td>0.000000</td>\n",
       "    </tr>\n",
       "    <tr>\n",
       "      <th>1</th>\n",
       "      <td>Азовский район</td>\n",
       "      <td>6.811933e+03</td>\n",
       "      <td>0.0000</td>\n",
       "      <td>0.000000</td>\n",
       "      <td>0.00000</td>\n",
       "      <td>79440.066667</td>\n",
       "      <td>9.480033e+03</td>\n",
       "      <td>0.0000</td>\n",
       "      <td>815.1000</td>\n",
       "      <td>0.000000</td>\n",
       "      <td>48562.933333</td>\n",
       "      <td>0.000000</td>\n",
       "    </tr>\n",
       "    <tr>\n",
       "      <th>2</th>\n",
       "      <td>Аксайский район</td>\n",
       "      <td>7.125582e+04</td>\n",
       "      <td>0.0000</td>\n",
       "      <td>0.000000</td>\n",
       "      <td>0.00000</td>\n",
       "      <td>51530.400000</td>\n",
       "      <td>8.716662e+04</td>\n",
       "      <td>0.0000</td>\n",
       "      <td>4957.3925</td>\n",
       "      <td>0.000000</td>\n",
       "      <td>41171.825000</td>\n",
       "      <td>6267.700000</td>\n",
       "    </tr>\n",
       "    <tr>\n",
       "      <th>3</th>\n",
       "      <td>Алексеевкий район</td>\n",
       "      <td>1.230500e+03</td>\n",
       "      <td>0.0000</td>\n",
       "      <td>0.000000</td>\n",
       "      <td>0.00000</td>\n",
       "      <td>371.900000</td>\n",
       "      <td>4.782000e+02</td>\n",
       "      <td>0.0000</td>\n",
       "      <td>0.0000</td>\n",
       "      <td>0.000000</td>\n",
       "      <td>0.000000</td>\n",
       "      <td>0.000000</td>\n",
       "    </tr>\n",
       "    <tr>\n",
       "      <th>4</th>\n",
       "      <td>Анапа</td>\n",
       "      <td>8.225300e+03</td>\n",
       "      <td>0.0000</td>\n",
       "      <td>0.000000</td>\n",
       "      <td>0.00000</td>\n",
       "      <td>4965.700000</td>\n",
       "      <td>2.213350e+03</td>\n",
       "      <td>0.0000</td>\n",
       "      <td>0.0000</td>\n",
       "      <td>0.000000</td>\n",
       "      <td>0.000000</td>\n",
       "      <td>2752.350000</td>\n",
       "    </tr>\n",
       "    <tr>\n",
       "      <th>...</th>\n",
       "      <td>...</td>\n",
       "      <td>...</td>\n",
       "      <td>...</td>\n",
       "      <td>...</td>\n",
       "      <td>...</td>\n",
       "      <td>...</td>\n",
       "      <td>...</td>\n",
       "      <td>...</td>\n",
       "      <td>...</td>\n",
       "      <td>...</td>\n",
       "      <td>...</td>\n",
       "      <td>...</td>\n",
       "    </tr>\n",
       "    <tr>\n",
       "      <th>276</th>\n",
       "      <td>Южно-Сахалинск</td>\n",
       "      <td>4.128817e+05</td>\n",
       "      <td>6014.1500</td>\n",
       "      <td>133902.700000</td>\n",
       "      <td>94626.55000</td>\n",
       "      <td>148720.115000</td>\n",
       "      <td>8.441777e+05</td>\n",
       "      <td>956.9055</td>\n",
       "      <td>87.9500</td>\n",
       "      <td>315633.283250</td>\n",
       "      <td>948.500000</td>\n",
       "      <td>2593.877500</td>\n",
       "    </tr>\n",
       "    <tr>\n",
       "      <th>277</th>\n",
       "      <td>Якутск</td>\n",
       "      <td>1.711287e+06</td>\n",
       "      <td>136877.2175</td>\n",
       "      <td>88569.590500</td>\n",
       "      <td>11221.81025</td>\n",
       "      <td>114265.795250</td>\n",
       "      <td>2.173559e+06</td>\n",
       "      <td>17260.6250</td>\n",
       "      <td>4784.8375</td>\n",
       "      <td>5677.307500</td>\n",
       "      <td>3841.350000</td>\n",
       "      <td>158407.882500</td>\n",
       "    </tr>\n",
       "    <tr>\n",
       "      <th>278</th>\n",
       "      <td>Ялта</td>\n",
       "      <td>3.921625e+05</td>\n",
       "      <td>111159.7000</td>\n",
       "      <td>925.000000</td>\n",
       "      <td>100.00000</td>\n",
       "      <td>21083.150000</td>\n",
       "      <td>5.135638e+05</td>\n",
       "      <td>4912.2500</td>\n",
       "      <td>0.0000</td>\n",
       "      <td>1.650000</td>\n",
       "      <td>50144.500000</td>\n",
       "      <td>3393.100000</td>\n",
       "    </tr>\n",
       "    <tr>\n",
       "      <th>279</th>\n",
       "      <td>Ярославль</td>\n",
       "      <td>2.688059e+05</td>\n",
       "      <td>204442.7000</td>\n",
       "      <td>92436.108333</td>\n",
       "      <td>4781.80000</td>\n",
       "      <td>138296.366667</td>\n",
       "      <td>4.082314e+05</td>\n",
       "      <td>3007.3750</td>\n",
       "      <td>203.7500</td>\n",
       "      <td>594857.658333</td>\n",
       "      <td>1571.075000</td>\n",
       "      <td>34727.841667</td>\n",
       "    </tr>\n",
       "    <tr>\n",
       "      <th>280</th>\n",
       "      <td>Ярославский район</td>\n",
       "      <td>1.544818e+04</td>\n",
       "      <td>0.0000</td>\n",
       "      <td>0.000000</td>\n",
       "      <td>0.00000</td>\n",
       "      <td>7137.453333</td>\n",
       "      <td>2.118627e+04</td>\n",
       "      <td>0.0000</td>\n",
       "      <td>10.0000</td>\n",
       "      <td>0.000000</td>\n",
       "      <td>593.373333</td>\n",
       "      <td>753.663333</td>\n",
       "    </tr>\n",
       "  </tbody>\n",
       "</table>\n",
       "<p>281 rows × 12 columns</p>\n",
       "</div>"
      ],
      "text/plain": [
       "                 town1  Sum-Avg-Р811  Sum-Avg-Р812   Sum-Avg-Р813  \\\n",
       "0               Абакан  1.918825e+03     8954.6250      33.725000   \n",
       "1       Азовский район  6.811933e+03        0.0000       0.000000   \n",
       "2      Аксайский район  7.125582e+04        0.0000       0.000000   \n",
       "3    Алексеевкий район  1.230500e+03        0.0000       0.000000   \n",
       "4                Анапа  8.225300e+03        0.0000       0.000000   \n",
       "..                 ...           ...           ...            ...   \n",
       "276     Южно-Сахалинск  4.128817e+05     6014.1500  133902.700000   \n",
       "277             Якутск  1.711287e+06   136877.2175   88569.590500   \n",
       "278               Ялта  3.921625e+05   111159.7000     925.000000   \n",
       "279          Ярославль  2.688059e+05   204442.7000   92436.108333   \n",
       "280  Ярославский район  1.544818e+04        0.0000       0.000000   \n",
       "\n",
       "     Sum-Avg-Р814   Sum-Avg-Р815  Sum-Avg-Р821  Sum-Avg-Р822  Sum-Avg-Р823  \\\n",
       "0      1796.25000   11138.525000  2.541233e+04      130.3000       30.0000   \n",
       "1         0.00000   79440.066667  9.480033e+03        0.0000      815.1000   \n",
       "2         0.00000   51530.400000  8.716662e+04        0.0000     4957.3925   \n",
       "3         0.00000     371.900000  4.782000e+02        0.0000        0.0000   \n",
       "4         0.00000    4965.700000  2.213350e+03        0.0000        0.0000   \n",
       "..            ...            ...           ...           ...           ...   \n",
       "276   94626.55000  148720.115000  8.441777e+05      956.9055       87.9500   \n",
       "277   11221.81025  114265.795250  2.173559e+06    17260.6250     4784.8375   \n",
       "278     100.00000   21083.150000  5.135638e+05     4912.2500        0.0000   \n",
       "279    4781.80000  138296.366667  4.082314e+05     3007.3750      203.7500   \n",
       "280       0.00000    7137.453333  2.118627e+04        0.0000       10.0000   \n",
       "\n",
       "      Sum-Avg-Р824  Sum-Avg-Р825   Sum-Avg-Р826  \n",
       "0        18.850000     17.200000       0.000000  \n",
       "1         0.000000  48562.933333       0.000000  \n",
       "2         0.000000  41171.825000    6267.700000  \n",
       "3         0.000000      0.000000       0.000000  \n",
       "4         0.000000      0.000000    2752.350000  \n",
       "..             ...           ...            ...  \n",
       "276  315633.283250    948.500000    2593.877500  \n",
       "277    5677.307500   3841.350000  158407.882500  \n",
       "278       1.650000  50144.500000    3393.100000  \n",
       "279  594857.658333   1571.075000   34727.841667  \n",
       "280       0.000000    593.373333     753.663333  \n",
       "\n",
       "[281 rows x 12 columns]"
      ]
     },
     "metadata": {},
     "output_type": "display_data"
    },
    {
     "data": {
      "text/html": [
       "<div>\n",
       "<style scoped>\n",
       "    .dataframe tbody tr th:only-of-type {\n",
       "        vertical-align: middle;\n",
       "    }\n",
       "\n",
       "    .dataframe tbody tr th {\n",
       "        vertical-align: top;\n",
       "    }\n",
       "\n",
       "    .dataframe thead th {\n",
       "        text-align: right;\n",
       "    }\n",
       "</style>\n",
       "<table border=\"1\" class=\"dataframe\">\n",
       "  <thead>\n",
       "    <tr style=\"text-align: right;\">\n",
       "      <th></th>\n",
       "      <th>Sum-Avg-Р823</th>\n",
       "    </tr>\n",
       "  </thead>\n",
       "  <tbody>\n",
       "    <tr>\n",
       "      <th>0</th>\n",
       "      <td>30.0000</td>\n",
       "    </tr>\n",
       "    <tr>\n",
       "      <th>1</th>\n",
       "      <td>815.1000</td>\n",
       "    </tr>\n",
       "    <tr>\n",
       "      <th>2</th>\n",
       "      <td>4957.3925</td>\n",
       "    </tr>\n",
       "    <tr>\n",
       "      <th>3</th>\n",
       "      <td>0.0000</td>\n",
       "    </tr>\n",
       "    <tr>\n",
       "      <th>4</th>\n",
       "      <td>0.0000</td>\n",
       "    </tr>\n",
       "    <tr>\n",
       "      <th>...</th>\n",
       "      <td>...</td>\n",
       "    </tr>\n",
       "    <tr>\n",
       "      <th>276</th>\n",
       "      <td>87.9500</td>\n",
       "    </tr>\n",
       "    <tr>\n",
       "      <th>277</th>\n",
       "      <td>4784.8375</td>\n",
       "    </tr>\n",
       "    <tr>\n",
       "      <th>278</th>\n",
       "      <td>0.0000</td>\n",
       "    </tr>\n",
       "    <tr>\n",
       "      <th>279</th>\n",
       "      <td>203.7500</td>\n",
       "    </tr>\n",
       "    <tr>\n",
       "      <th>280</th>\n",
       "      <td>10.0000</td>\n",
       "    </tr>\n",
       "  </tbody>\n",
       "</table>\n",
       "<p>281 rows × 1 columns</p>\n",
       "</div>"
      ],
      "text/plain": [
       "     Sum-Avg-Р823\n",
       "0         30.0000\n",
       "1        815.1000\n",
       "2       4957.3925\n",
       "3          0.0000\n",
       "4          0.0000\n",
       "..            ...\n",
       "276       87.9500\n",
       "277     4784.8375\n",
       "278        0.0000\n",
       "279      203.7500\n",
       "280       10.0000\n",
       "\n",
       "[281 rows x 1 columns]"
      ]
     },
     "metadata": {},
     "output_type": "display_data"
    }
   ],
   "source": [
    "display(data)\n",
    "display(D)"
   ]
  },
  {
   "cell_type": "markdown",
   "id": "f34b9566",
   "metadata": {},
   "source": [
    "# Блок 1"
   ]
  },
  {
   "cell_type": "markdown",
   "id": "9244edba",
   "metadata": {},
   "source": [
    "# Задание 1"
   ]
  },
  {
   "cell_type": "code",
   "execution_count": 3,
   "id": "0cf536b4",
   "metadata": {},
   "outputs": [
    {
     "name": "stdout",
     "output_type": "stream",
     "text": [
      "Значение среднего арифметического: 57371.28335881295\n",
      "Значение среднего геометрического:  769.8088532487311\n",
      "Значение среднего гармонического: 30.270845417018617\n",
      "Значение медианы: 747.55\n"
     ]
    }
   ],
   "source": [
    "import statistics as stats\n",
    "Ds=D[(D['Sum-Avg-Р823']>0)]\n",
    "f=np.array(Ds['Sum-Avg-Р823'])\n",
    "\n",
    "SrZn=f.mean()\n",
    "SrGeom=stats.geometric_mean(f)\n",
    "SrGarm=stats.harmonic_mean(f)\n",
    "Median=np.median(f)\n",
    "\n",
    "print(\"Значение среднего арифметического:\",SrZn)\n",
    "print(\"Значение среднего геометрического: \", SrGeom)\n",
    "print(\"Значение среднего гармонического:\", SrGarm)\n",
    "print(\"Значение медианы:\", Median)"
   ]
  },
  {
   "cell_type": "markdown",
   "id": "e77b3cd7",
   "metadata": {},
   "source": [
    "# Задание 2"
   ]
  },
  {
   "cell_type": "code",
   "execution_count": 4,
   "id": "ea4a5516",
   "metadata": {},
   "outputs": [
    {
     "name": "stdout",
     "output_type": "stream",
     "text": [
      "Певрвый квартиль: 0.0\n",
      "Третий квартиль: 746.3333333333334\n"
     ]
    }
   ],
   "source": [
    "Q1 = np.percentile(D, 25, interpolation = 'midpoint')\n",
    "Q3 = np.percentile(D, 75, interpolation = 'midpoint')\n",
    "\n",
    "print(\"Певрвый квартиль:\", Q1)\n",
    "print(\"Третий квартиль:\", Q3)"
   ]
  },
  {
   "cell_type": "markdown",
   "id": "d5691d94",
   "metadata": {},
   "source": [
    "# Задание 3"
   ]
  },
  {
   "cell_type": "code",
   "execution_count": 5,
   "id": "bf7eb8c0",
   "metadata": {},
   "outputs": [
    {
     "data": {
      "image/png": "[encoded data removed]",
      "text/plain": [
       "<Figure size 720x504 with 1 Axes>"
      ]
     },
     "metadata": {
      "needs_background": "light"
     },
     "output_type": "display_data"
    }
   ],
   "source": [
    "from collections import Counter\n",
    "from matplotlib import pyplot as plt\n",
    "\n",
    "fig=plt.figure(figsize=(10,7))\n",
    "pl = fig.add_subplot(111)\n",
    "\n",
    "pl.hist(D,bins=int(1+log2(len(D))),rwidth=1)\n",
    "pl.vlines(SrZn,0,275,color='red',ls='-',lw=2,label='SrZn')\n",
    "pl.vlines(SrGarm,0,275,color='orange',ls='-',lw=2,label='SrGarm')\n",
    "pl.vlines(SrGeom,0,275,color='yellow',ls='-',lw=2,label='SrGeom')\n",
    "pl.vlines(Median,0,275,color='pink',ls='-',lw=2,label='Median')\n",
    "pl.vlines(Q1,0,275,color='cyan',ls='--',lw=2,label='Q1')\n",
    "pl.vlines(Q3,0,275,color='green',ls='--',lw=2,label='Q3')\n",
    "\n",
    "plt.legend()\n",
    "plt.show()\n",
    "\n"
   ]
  },
  {
   "cell_type": "markdown",
   "id": "b9d6567c",
   "metadata": {},
   "source": [
    "# Задание 4"
   ]
  },
  {
   "cell_type": "code",
   "execution_count": 6,
   "id": "fe2fb881",
   "metadata": {},
   "outputs": [
    {
     "data": {
      "image/png": "[encoded data removed]",
      "text/plain": [
       "<Figure size 720x504 with 1 Axes>"
      ]
     },
     "metadata": {
      "needs_background": "light"
     },
     "output_type": "display_data"
    }
   ],
   "source": [
    "AccumulateData = np.cumsum(D)\n",
    "\n",
    "fig=plt.figure(figsize=(10,7))\n",
    "pl = fig.add_subplot(111)\n",
    "\n",
    "pl.plot(range(0,len(data)),AccumulateData,ls='-',lw=3,c='orange')\n",
    "plt.grid(True)\n",
    "plt.show()"
   ]
  },
  {
   "cell_type": "markdown",
   "id": "59fc84da",
   "metadata": {},
   "source": [
    "# Задание 5"
   ]
  },
  {
   "cell_type": "code",
   "execution_count": 7,
   "id": "00c4985c",
   "metadata": {},
   "outputs": [
    {
     "data": {
      "text/html": [
       "<div>\n",
       "<style scoped>\n",
       "    .dataframe tbody tr th:only-of-type {\n",
       "        vertical-align: middle;\n",
       "    }\n",
       "\n",
       "    .dataframe tbody tr th {\n",
       "        vertical-align: top;\n",
       "    }\n",
       "\n",
       "    .dataframe thead th {\n",
       "        text-align: right;\n",
       "    }\n",
       "</style>\n",
       "<table border=\"1\" class=\"dataframe\">\n",
       "  <thead>\n",
       "    <tr style=\"text-align: right;\">\n",
       "      <th></th>\n",
       "      <th>Interval</th>\n",
       "      <th>Mid</th>\n",
       "      <th>Chastot</th>\n",
       "      <th>NakopChast</th>\n",
       "    </tr>\n",
       "  </thead>\n",
       "  <tbody>\n",
       "    <tr>\n",
       "      <th>0</th>\n",
       "      <td>0.0-379966.8266833333</td>\n",
       "      <td>1.899834e+05</td>\n",
       "      <td>278</td>\n",
       "      <td>278</td>\n",
       "    </tr>\n",
       "    <tr>\n",
       "      <th>1</th>\n",
       "      <td>379966.8266833333-759933.6533666666</td>\n",
       "      <td>5.699502e+05</td>\n",
       "      <td>0</td>\n",
       "      <td>278</td>\n",
       "    </tr>\n",
       "    <tr>\n",
       "      <th>2</th>\n",
       "      <td>759933.6533666666-1139900.48005</td>\n",
       "      <td>9.499171e+05</td>\n",
       "      <td>0</td>\n",
       "      <td>278</td>\n",
       "    </tr>\n",
       "    <tr>\n",
       "      <th>3</th>\n",
       "      <td>1139900.48005-1519867.3067333333</td>\n",
       "      <td>1.329884e+06</td>\n",
       "      <td>1</td>\n",
       "      <td>279</td>\n",
       "    </tr>\n",
       "    <tr>\n",
       "      <th>4</th>\n",
       "      <td>1519867.3067333333-1899834.1334166666</td>\n",
       "      <td>1.709851e+06</td>\n",
       "      <td>1</td>\n",
       "      <td>280</td>\n",
       "    </tr>\n",
       "    <tr>\n",
       "      <th>5</th>\n",
       "      <td>1899834.1334166666-2279800.9601</td>\n",
       "      <td>2.089818e+06</td>\n",
       "      <td>0</td>\n",
       "      <td>280</td>\n",
       "    </tr>\n",
       "    <tr>\n",
       "      <th>6</th>\n",
       "      <td>2279800.9601-2659767.7867833334</td>\n",
       "      <td>2.469784e+06</td>\n",
       "      <td>0</td>\n",
       "      <td>280</td>\n",
       "    </tr>\n",
       "    <tr>\n",
       "      <th>7</th>\n",
       "      <td>2659767.7867833334-3039734.6134666665</td>\n",
       "      <td>2.849751e+06</td>\n",
       "      <td>0</td>\n",
       "      <td>280</td>\n",
       "    </tr>\n",
       "    <tr>\n",
       "      <th>8</th>\n",
       "      <td>3039734.6134666665-3419701.4401499997</td>\n",
       "      <td>3.229718e+06</td>\n",
       "      <td>0</td>\n",
       "      <td>280</td>\n",
       "    </tr>\n",
       "    <tr>\n",
       "      <th>9</th>\n",
       "      <td>3419701.4401499997-3799668.2668333333</td>\n",
       "      <td>3.609685e+06</td>\n",
       "      <td>1</td>\n",
       "      <td>281</td>\n",
       "    </tr>\n",
       "  </tbody>\n",
       "</table>\n",
       "</div>"
      ],
      "text/plain": [
       "                                Interval           Mid  Chastot  NakopChast\n",
       "0                  0.0-379966.8266833333  1.899834e+05      278         278\n",
       "1    379966.8266833333-759933.6533666666  5.699502e+05        0         278\n",
       "2        759933.6533666666-1139900.48005  9.499171e+05        0         278\n",
       "3       1139900.48005-1519867.3067333333  1.329884e+06        1         279\n",
       "4  1519867.3067333333-1899834.1334166666  1.709851e+06        1         280\n",
       "5        1899834.1334166666-2279800.9601  2.089818e+06        0         280\n",
       "6        2279800.9601-2659767.7867833334  2.469784e+06        0         280\n",
       "7  2659767.7867833334-3039734.6134666665  2.849751e+06        0         280\n",
       "8  3039734.6134666665-3419701.4401499997  3.229718e+06        0         280\n",
       "9  3419701.4401499997-3799668.2668333333  3.609685e+06        1         281"
      ]
     },
     "metadata": {},
     "output_type": "display_data"
    },
    {
     "name": "stdout",
     "output_type": "stream",
     "text": [
      "GroupZn  211618.53514569986\n",
      "GroupMode  189983.41334166666\n",
      "GroupMedian  192033.59406118107\n"
     ]
    },
    {
     "data": {
      "text/html": [
       "<div>\n",
       "<style scoped>\n",
       "    .dataframe tbody tr th:only-of-type {\n",
       "        vertical-align: middle;\n",
       "    }\n",
       "\n",
       "    .dataframe tbody tr th {\n",
       "        vertical-align: top;\n",
       "    }\n",
       "\n",
       "    .dataframe thead th {\n",
       "        text-align: right;\n",
       "    }\n",
       "</style>\n",
       "<table border=\"1\" class=\"dataframe\">\n",
       "  <thead>\n",
       "    <tr style=\"text-align: right;\">\n",
       "      <th></th>\n",
       "      <th>SrZn</th>\n",
       "      <th>GroupZn</th>\n",
       "      <th>Median</th>\n",
       "      <th>GroupMedian</th>\n",
       "    </tr>\n",
       "  </thead>\n",
       "  <tbody>\n",
       "    <tr>\n",
       "      <th>0</th>\n",
       "      <td>57371.283359</td>\n",
       "      <td>211618.535146</td>\n",
       "      <td>747.55</td>\n",
       "      <td>192033.594061</td>\n",
       "    </tr>\n",
       "  </tbody>\n",
       "</table>\n",
       "</div>"
      ],
      "text/plain": [
       "           SrZn        GroupZn  Median    GroupMedian\n",
       "0  57371.283359  211618.535146  747.55  192033.594061"
      ]
     },
     "metadata": {},
     "output_type": "display_data"
    }
   ],
   "source": [
    "DHist = np.histogram(D)\n",
    "intervalMid = [ (DHist[1][i]+DHist[1][i+1])/2 for i in range(len(DHist[1])-1) ]\n",
    "intervalStr = [ str(DHist[1][i])+'-'+str(DHist[1][i+1]) for i in range(len(DHist[1])-1) ]\n",
    "AccumulateData = np.cumsum(DHist[0])\n",
    "\n",
    "GroupD = pd.DataFrame()\n",
    "GroupD['Interval']=intervalStr\n",
    "GroupD['Mid']=intervalMid\n",
    "GroupD['Chastot']=DHist[0]\n",
    "GroupD['NakopChast']=AccumulateData\n",
    "\n",
    "display(GroupD)\n",
    "\n",
    "GroupZn = (GroupD['Mid']*GroupD['Chastot']).sum()/GroupD['Chastot'].sum()\n",
    "h=DHist[1][1]-DHist[1][0]\n",
    "\n",
    "GroupMode = 0 + h*(278-0)/(2*278-0-0)\n",
    "\n",
    "HalfNChSum = 140.5\n",
    "GroupMedian = 0 + h*(GroupD['Chastot'].sum()/2-0)/278\n",
    "\n",
    "print('GroupZn ',GroupZn)\n",
    "print('GroupMode ',GroupMode)\n",
    "print('GroupMedian ',GroupMedian)\n",
    "\n",
    "dfc= pd.DataFrame(columns=['SrZn','GroupZn','Median','GroupMedian'])\n",
    "dfc= dfc.append(pd.Series([SrZn,GroupZn,Median,GroupMedian],index=dfc.columns),ignore_index=True)\n",
    "\n",
    "display(dfc)"
   ]
  },
  {
   "cell_type": "markdown",
   "id": "de7fd713",
   "metadata": {},
   "source": [
    "# Задание 6"
   ]
  },
  {
   "cell_type": "code",
   "execution_count": 14,
   "id": "611734ba",
   "metadata": {},
   "outputs": [
    {
     "name": "stdout",
     "output_type": "stream",
     "text": [
      "Range  3799668.2668333333\n",
      "SrLin 52244.27303109025\n",
      "IQR  746.3333333333334\n",
      "std  260320.61806340495\n",
      "Disp  67766824188.913155\n",
      "Kv  917.2875974224739\n",
      "Kd  184.09230910822498\n",
      "Ko  13388.8302871079\n"
     ]
    },
    {
     "data": {
      "text/html": [
       "<div>\n",
       "<style scoped>\n",
       "    .dataframe tbody tr th:only-of-type {\n",
       "        vertical-align: middle;\n",
       "    }\n",
       "\n",
       "    .dataframe tbody tr th {\n",
       "        vertical-align: top;\n",
       "    }\n",
       "\n",
       "    .dataframe thead th {\n",
       "        text-align: right;\n",
       "    }\n",
       "</style>\n",
       "<table border=\"1\" class=\"dataframe\">\n",
       "  <thead>\n",
       "    <tr style=\"text-align: right;\">\n",
       "      <th></th>\n",
       "      <th>Range</th>\n",
       "      <th>SrLin</th>\n",
       "      <th>IQR</th>\n",
       "      <th>std</th>\n",
       "      <th>Disp</th>\n",
       "      <th>KV</th>\n",
       "      <th>KD</th>\n",
       "      <th>KO</th>\n",
       "    </tr>\n",
       "  </thead>\n",
       "  <tbody>\n",
       "    <tr>\n",
       "      <th>Sum-Avg-Р823</th>\n",
       "      <td>3.799668e+06</td>\n",
       "      <td>52244.273031</td>\n",
       "      <td>746.333333</td>\n",
       "      <td>260320.618063</td>\n",
       "      <td>6.776682e+10</td>\n",
       "      <td>917.287597</td>\n",
       "      <td>184.092309</td>\n",
       "      <td>13388.830287</td>\n",
       "    </tr>\n",
       "  </tbody>\n",
       "</table>\n",
       "</div>"
      ],
      "text/plain": [
       "                     Range         SrLin         IQR            std  \\\n",
       "Sum-Avg-Р823  3.799668e+06  52244.273031  746.333333  260320.618063   \n",
       "\n",
       "                      Disp          KV          KD            KO  \n",
       "Sum-Avg-Р823  6.776682e+10  917.287597  184.092309  13388.830287  "
      ]
     },
     "metadata": {},
     "output_type": "display_data"
    }
   ],
   "source": [
    "R=D.max()-D.min()\n",
    "SrLin = (np.abs(D-D.mean())).sum()/len(D)\n",
    "IQR = Q3-Q1\n",
    "Std = D.std()\n",
    "Disp=Std**2\n",
    "KV = Std/D.mean()*100\n",
    "KD = SrLin/D.mean()*100\n",
    "KO = R/D.mean()*100\n",
    "\n",
    "print('Range ',R[0])\n",
    "print('SrLin', SrLin[0])\n",
    "print('IQR ', IQR)\n",
    "print('std ', Std[0])\n",
    "print('Disp ', Disp[0])\n",
    "print('Kv ',KV[0])\n",
    "print('Kd ',KD[0])\n",
    "print('Ko ',KO[0])\n",
    "\n",
    "DfParams=pd.DataFrame()\n",
    "DfParams['Range']=pd.Series([R[0]])\n",
    "DfParams['SrLin']=pd.Series([SrLin[0]])\n",
    "DfParams['IQR']=pd.Series([IQR])\n",
    "DfParams['std']=pd.Series([Std[0]])\n",
    "DfParams['Disp']=pd.Series([Disp[0]])\n",
    "DfParams['KV']=pd.Series([KV[0]])\n",
    "DfParams['KD']=pd.Series([KD[0]])\n",
    "DfParams['KO']=pd.Series([KO[0]])\n",
    "\n",
    "DfParams.index=['Sum-Avg-Р823']\n",
    "display(DfParams)"
   ]
  },
  {
   "cell_type": "markdown",
   "id": "af068ea3",
   "metadata": {},
   "source": [
    "# Задание 7"
   ]
  },
  {
   "cell_type": "code",
   "execution_count": 9,
   "id": "31ba777c",
   "metadata": {},
   "outputs": [
    {
     "data": {
      "image/png": "[encoded data removed]",
      "text/plain": [
       "<Figure size 720x504 with 1 Axes>"
      ]
     },
     "metadata": {
      "needs_background": "light"
     },
     "output_type": "display_data"
    },
    {
     "name": "stdout",
     "output_type": "stream",
     "text": [
      "A =  Sum-Avg-Р823    12.199266\n",
      "dtype: float64\n",
      "|A| / sigmaA =  Sum-Avg-Р823    84.22922\n",
      "dtype: float64\n"
     ]
    }
   ],
   "source": [
    "fig = plt.figure(figsize=(10,7))\n",
    "pl=fig.add_subplot(111)\n",
    "\n",
    "pl.boxplot(D)\n",
    "\n",
    "plt.yscale('log')\n",
    "plt.show()\n",
    "\n",
    "n=len(D)\n",
    "\n",
    "A = (((D-D.mean())**3).sum()/n)/D.std()**3\n",
    "sigmaA = sqrt((6*(n-1))/((n+1)*(n+3)))\n",
    "\n",
    "print('A = ',A)\n",
    "print('|A| / sigmaA = ', abs(A)/sigmaA)"
   ]
  },
  {
   "cell_type": "markdown",
   "id": "412fa2c8",
   "metadata": {},
   "source": [
    "A > 0, => распределение скошено вправо. |A| / sigmaA > 3, => присутствует существенная асимметрия. Присутствет большое количество выбросов => коэффициент асимметрии не имеет смысла."
   ]
  },
  {
   "cell_type": "code",
   "execution_count": 10,
   "id": "12e955ee",
   "metadata": {},
   "outputs": [
    {
     "name": "stdout",
     "output_type": "stream",
     "text": [
      "E =  Sum-Avg-Р823    161.954794\n",
      "dtype: float64\n",
      "|E| / sigmaE =  Sum-Avg-Р823    565.081054\n",
      "dtype: float64\n"
     ]
    }
   ],
   "source": [
    "E = (((D-D.mean())**4).sum()/n)/D.std()**4-3\n",
    "sigmaE = sqrt((24*n*(n-2)*(n-3))/((n-1)**2*(n+3)*(n+5)))\n",
    "\n",
    "print('E = ',E)\n",
    "print('|E| / sigmaE = ', abs(E)/sigmaE)"
   ]
  },
  {
   "cell_type": "markdown",
   "id": "4c57756a",
   "metadata": {},
   "source": [
    "E > 0, => распределение островершинно. |E| / sigmaE значительно больше 3, => присутствуют существееные отколнения. => Е не существенно и не имеет смысла."
   ]
  },
  {
   "cell_type": "markdown",
   "id": "5e8de832",
   "metadata": {},
   "source": [
    "# Блок 2"
   ]
  },
  {
   "cell_type": "markdown",
   "id": "eb23a450",
   "metadata": {},
   "source": [
    "# Задание 1"
   ]
  },
  {
   "cell_type": "code",
   "execution_count": 11,
   "id": "0b57b9ff",
   "metadata": {},
   "outputs": [
    {
     "data": {
      "text/html": [
       "<div>\n",
       "<style scoped>\n",
       "    .dataframe tbody tr th:only-of-type {\n",
       "        vertical-align: middle;\n",
       "    }\n",
       "\n",
       "    .dataframe tbody tr th {\n",
       "        vertical-align: top;\n",
       "    }\n",
       "\n",
       "    .dataframe thead th {\n",
       "        text-align: right;\n",
       "    }\n",
       "</style>\n",
       "<table border=\"1\" class=\"dataframe\">\n",
       "  <thead>\n",
       "    <tr style=\"text-align: right;\">\n",
       "      <th></th>\n",
       "      <th>D_interv</th>\n",
       "      <th>D2_group_chast</th>\n",
       "      <th>D2_group_srzn</th>\n",
       "      <th>D2_group_disp</th>\n",
       "    </tr>\n",
       "  </thead>\n",
       "  <tbody>\n",
       "    <tr>\n",
       "      <th>0</th>\n",
       "      <td>0.0-379966.8266833333</td>\n",
       "      <td>136</td>\n",
       "      <td>167384.895675</td>\n",
       "      <td>2.071857e+12</td>\n",
       "    </tr>\n",
       "    <tr>\n",
       "      <th>1</th>\n",
       "      <td>379966.8266833333-759933.6533666666</td>\n",
       "      <td>0</td>\n",
       "      <td>0.000000</td>\n",
       "      <td>0.000000e+00</td>\n",
       "    </tr>\n",
       "    <tr>\n",
       "      <th>2</th>\n",
       "      <td>759933.6533666666-1139900.48005</td>\n",
       "      <td>0</td>\n",
       "      <td>0.000000</td>\n",
       "      <td>0.000000e+00</td>\n",
       "    </tr>\n",
       "    <tr>\n",
       "      <th>3</th>\n",
       "      <td>1139900.48005-1519867.3067333333</td>\n",
       "      <td>1</td>\n",
       "      <td>130.300000</td>\n",
       "      <td>0.000000e+00</td>\n",
       "    </tr>\n",
       "    <tr>\n",
       "      <th>4</th>\n",
       "      <td>1519867.3067333333-1899834.1334166666</td>\n",
       "      <td>1</td>\n",
       "      <td>130.300000</td>\n",
       "      <td>0.000000e+00</td>\n",
       "    </tr>\n",
       "    <tr>\n",
       "      <th>5</th>\n",
       "      <td>1899834.1334166666-2279800.9601</td>\n",
       "      <td>0</td>\n",
       "      <td>0.000000</td>\n",
       "      <td>0.000000e+00</td>\n",
       "    </tr>\n",
       "    <tr>\n",
       "      <th>6</th>\n",
       "      <td>2279800.9601-2659767.7867833334</td>\n",
       "      <td>0</td>\n",
       "      <td>0.000000</td>\n",
       "      <td>0.000000e+00</td>\n",
       "    </tr>\n",
       "    <tr>\n",
       "      <th>7</th>\n",
       "      <td>2659767.7867833334-3039734.6134666665</td>\n",
       "      <td>0</td>\n",
       "      <td>0.000000</td>\n",
       "      <td>0.000000e+00</td>\n",
       "    </tr>\n",
       "    <tr>\n",
       "      <th>8</th>\n",
       "      <td>3039734.6134666665-3419701.4401499997</td>\n",
       "      <td>0</td>\n",
       "      <td>0.000000</td>\n",
       "      <td>0.000000e+00</td>\n",
       "    </tr>\n",
       "    <tr>\n",
       "      <th>9</th>\n",
       "      <td>3419701.4401499997-3799668.2668333333</td>\n",
       "      <td>1</td>\n",
       "      <td>130.300000</td>\n",
       "      <td>0.000000e+00</td>\n",
       "    </tr>\n",
       "  </tbody>\n",
       "</table>\n",
       "</div>"
      ],
      "text/plain": [
       "                                D_interv  D2_group_chast  D2_group_srzn  \\\n",
       "0                  0.0-379966.8266833333             136  167384.895675   \n",
       "1    379966.8266833333-759933.6533666666               0       0.000000   \n",
       "2        759933.6533666666-1139900.48005               0       0.000000   \n",
       "3       1139900.48005-1519867.3067333333               1     130.300000   \n",
       "4  1519867.3067333333-1899834.1334166666               1     130.300000   \n",
       "5        1899834.1334166666-2279800.9601               0       0.000000   \n",
       "6        2279800.9601-2659767.7867833334               0       0.000000   \n",
       "7  2659767.7867833334-3039734.6134666665               0       0.000000   \n",
       "8  3039734.6134666665-3419701.4401499997               0       0.000000   \n",
       "9  3419701.4401499997-3799668.2668333333               1     130.300000   \n",
       "\n",
       "   D2_group_disp  \n",
       "0   2.071857e+12  \n",
       "1   0.000000e+00  \n",
       "2   0.000000e+00  \n",
       "3   0.000000e+00  \n",
       "4   0.000000e+00  \n",
       "5   0.000000e+00  \n",
       "6   0.000000e+00  \n",
       "7   0.000000e+00  \n",
       "8   0.000000e+00  \n",
       "9   0.000000e+00  "
      ]
     },
     "metadata": {},
     "output_type": "display_data"
    }
   ],
   "source": [
    "D2=np.array(data[['Sum-Avg-Р822']])\n",
    "D1=np.array(D)\n",
    "DHist = np.histogram(D)\n",
    "\n",
    "DInterv=[]\n",
    "D2Groups=[]\n",
    "for i in range(len(DHist[1])-1):\n",
    "    group=[]\n",
    "    j=0\n",
    "    left=DHist[1][i]\n",
    "    right = DHist[1][i+1]\n",
    "    DInterv.append(str(left)+'-'+str(right))\n",
    "    for val in D1:\n",
    "        if left<val<=right:\n",
    "            group.append(D2[j])\n",
    "            j+=1\n",
    "    D2Groups.append(np.array(group))\n",
    "    \n",
    "D2GroupsD=pd.DataFrame()\n",
    "D2GroupsD['D_interv']=pd.Series(DInterv)\n",
    "D2GroupsD['D2_group_chast']=pd.Series([len(x)  for x in D2Groups])\n",
    "D2GroupsD['D2_group_srzn']=pd.Series([ (x.mean() if len(x)>0 else 0) for x in D2Groups])\n",
    "D2GroupsD['D2_group_disp']=pd.Series([ (x.std()**2 if len(x)>0 else 0) for x in D2Groups])\n",
    "\n",
    "display(D2GroupsD)"
   ]
  },
  {
   "cell_type": "markdown",
   "id": "2875711f",
   "metadata": {},
   "source": [
    "# Задание 2"
   ]
  },
  {
   "cell_type": "code",
   "execution_count": 12,
   "id": "765d81ef",
   "metadata": {},
   "outputs": [
    {
     "name": "stdout",
     "output_type": "stream",
     "text": [
      "SrGroupDisp  1035489509887.9943\n",
      "ObshDisp  2030528055960.943\n",
      "% Oshibki 0.16708095599910808\n"
     ]
    }
   ],
   "source": [
    "SrGroupDisp = (D2GroupsD['D2_group_disp']*D2GroupsD['D2_group_chast']).sum()/D2GroupsD['D2_group_chast'].sum()\n",
    "MezhgroupDisp = (((D2GroupsD['D2_group_srzn']-D2.mean())**2)*D2GroupsD['D2_group_chast']).sum()/D2GroupsD['D2_group_chast'].sum()\n",
    "\n",
    "print('SrGroupDisp ',D2.std()**2)\n",
    "print('ObshDisp ',SrGroupDisp+MezhgroupDisp)\n",
    "print('% Oshibki',min(SrGroupDisp,MezhgroupDisp)/max(SrGroupDisp,MezhgroupDisp)*100)"
   ]
  },
  {
   "cell_type": "code",
   "execution_count": 13,
   "id": "253f6dab",
   "metadata": {},
   "outputs": [
    {
     "name": "stdout",
     "output_type": "stream",
     "text": [
      "0.057191648160625386\n"
     ]
    }
   ],
   "source": [
    "#from cmath import sqrt\n",
    "#EmpirCofCorr = sqrt(1-SrGroupDisp/(D2.std()**2)) по этой формуле получается комплексное число, странно\n",
    "EmpirCofCorr = sqrt(MezhgroupDisp/(D2.std()**2))\n",
    "print(EmpirCofCorr)"
   ]
  },
  {
   "cell_type": "markdown",
   "id": "a51756e8",
   "metadata": {},
   "source": [
    "Эмпирический коэффициент корреляции < 0.3 => связь параметров \"Sum-Avg-Р823\" и \"Sum-Avg-Р822\" слабая и вероятно имеет случайный характер."
   ]
  },
  {
   "cell_type": "markdown",
   "id": "6a02f446",
   "metadata": {},
   "source": [
    "# Задание 3"
   ]
  },
  {
   "cell_type": "code",
   "execution_count": 17,
   "id": "015a7b20",
   "metadata": {},
   "outputs": [
    {
     "data": {
      "image/png": "[encoded data removed]",
      "text/plain": [
       "<Figure size 1080x792 with 2 Axes>"
      ]
     },
     "metadata": {
      "needs_background": "light"
     },
     "output_type": "display_data"
    }
   ],
   "source": [
    "import scipy\n",
    "import pylab\n",
    "import scipy.stats as stats\n",
    "\n",
    "D1 = data['Sum-Avg-Р823']\n",
    "D2 = data['Sum-Avg-Р822']\n",
    "\n",
    "fig = plt.figure(figsize=(15,11))\n",
    "\n",
    "pl1 = fig.add_subplot(121)\n",
    "pl2 = fig.add_subplot(122)\n",
    "\n",
    "D1 = stats.probplot(D1, dist='norm', plot=pl1)\n",
    "D2 = stats.probplot(D2, dist='norm', plot=pl2)\n",
    "\n",
    "pl1.set_title('Sum-Avg-Р823')\n",
    "pl2.set_title('Sum-Avg-Р822')\n",
    "\n",
    "plt.show()"
   ]
  },
  {
   "cell_type": "markdown",
   "id": "b25db60f",
   "metadata": {},
   "source": [
    "Оба параметра не распределены по нормальному закону"
   ]
  },
  {
   "cell_type": "markdown",
   "id": "640f78b2",
   "metadata": {},
   "source": [
    "# Задание 4"
   ]
  },
  {
   "cell_type": "code",
   "execution_count": 36,
   "id": "3fc7150d",
   "metadata": {},
   "outputs": [
    {
     "name": "stdout",
     "output_type": "stream",
     "text": [
      "Pirson corr coef  =  0.43499723682866426\n"
     ]
    }
   ],
   "source": [
    "D2=np.array(data['Sum-Avg-Р822'])\n",
    "D1=np.array(data['Sum-Avg-Р823'])\n",
    "\n",
    "cov = (D1*D2).mean()-D1.mean()*D2.mean()\n",
    "norm = D1.std()*D2.std()\n",
    "PirsonCorr = cov/norm\n",
    "\n",
    "print('Pirson corr coef  = ', PirsonCorr)\n"
   ]
  },
  {
   "cell_type": "markdown",
   "id": "8b42bf27",
   "metadata": {},
   "source": [
    "Коэффициент корреляции Пирсона находится в диапозоне [0.3,0.5) => присутствует умеренная корреляция."
   ]
  },
  {
   "cell_type": "code",
   "execution_count": 40,
   "id": "6c5ebb54",
   "metadata": {},
   "outputs": [
    {
     "name": "stdout",
     "output_type": "stream",
     "text": [
      "NablT  8.06933566789844\n",
      "CritT  2.7764451051977987\n"
     ]
    }
   ],
   "source": [
    "from scipy.stats import t\n",
    "\n",
    "Alpha = 0.05\n",
    "StFreedom = len(D1)-2                               \n",
    "\n",
    "NablT = PirsonCorr/(sqrt(1-PirsonCorr**2))*sqrt(data['Sum-Avg-Р823'].shape[0]-2)\n",
    "CritT = t.ppf(1-Alpha/2,4)\n",
    "\n",
    "print('NablT ',NablT)\n",
    "print('CritT ',CritT)"
   ]
  },
  {
   "cell_type": "markdown",
   "id": "30192c15",
   "metadata": {},
   "source": [
    "Наблюдаемое значение критерия > критического => отвергаем гипотезу H0 => Т имеет вид распрделения Стьюдента и связи между параметрами \"Sum-Avg-Р823\" и \"Sum-Avg-Р822\" нет."
   ]
  },
  {
   "cell_type": "markdown",
   "id": "d90212a3",
   "metadata": {},
   "source": [
    "# Задание 5"
   ]
  },
  {
   "cell_type": "code",
   "execution_count": 41,
   "id": "4c5e0898",
   "metadata": {},
   "outputs": [
    {
     "data": {
      "text/html": [
       "<div>\n",
       "<style scoped>\n",
       "    .dataframe tbody tr th:only-of-type {\n",
       "        vertical-align: middle;\n",
       "    }\n",
       "\n",
       "    .dataframe tbody tr th {\n",
       "        vertical-align: top;\n",
       "    }\n",
       "\n",
       "    .dataframe thead th {\n",
       "        text-align: right;\n",
       "    }\n",
       "</style>\n",
       "<table border=\"1\" class=\"dataframe\">\n",
       "  <thead>\n",
       "    <tr style=\"text-align: right;\">\n",
       "      <th></th>\n",
       "      <th>Sum-Avg-Р811</th>\n",
       "      <th>Sum-Avg-Р812</th>\n",
       "      <th>Sum-Avg-Р813</th>\n",
       "      <th>Sum-Avg-Р814</th>\n",
       "      <th>Sum-Avg-Р815</th>\n",
       "      <th>Sum-Avg-Р821</th>\n",
       "      <th>Sum-Avg-Р822</th>\n",
       "      <th>Sum-Avg-Р823</th>\n",
       "      <th>Sum-Avg-Р824</th>\n",
       "      <th>Sum-Avg-Р825</th>\n",
       "      <th>Sum-Avg-Р826</th>\n",
       "    </tr>\n",
       "  </thead>\n",
       "  <tbody>\n",
       "    <tr>\n",
       "      <th>0</th>\n",
       "      <td>1918.825000</td>\n",
       "      <td>8954.625</td>\n",
       "      <td>33.725</td>\n",
       "      <td>1796.25</td>\n",
       "      <td>11138.525000</td>\n",
       "      <td>25412.325000</td>\n",
       "      <td>130.3</td>\n",
       "      <td>30.0000</td>\n",
       "      <td>18.85</td>\n",
       "      <td>17.200000</td>\n",
       "      <td>0.00</td>\n",
       "    </tr>\n",
       "    <tr>\n",
       "      <th>1</th>\n",
       "      <td>6811.933333</td>\n",
       "      <td>0.000</td>\n",
       "      <td>0.000</td>\n",
       "      <td>0.00</td>\n",
       "      <td>79440.066667</td>\n",
       "      <td>9480.033333</td>\n",
       "      <td>0.0</td>\n",
       "      <td>815.1000</td>\n",
       "      <td>0.00</td>\n",
       "      <td>48562.933333</td>\n",
       "      <td>0.00</td>\n",
       "    </tr>\n",
       "    <tr>\n",
       "      <th>2</th>\n",
       "      <td>71255.825000</td>\n",
       "      <td>0.000</td>\n",
       "      <td>0.000</td>\n",
       "      <td>0.00</td>\n",
       "      <td>51530.400000</td>\n",
       "      <td>87166.625000</td>\n",
       "      <td>0.0</td>\n",
       "      <td>4957.3925</td>\n",
       "      <td>0.00</td>\n",
       "      <td>41171.825000</td>\n",
       "      <td>6267.70</td>\n",
       "    </tr>\n",
       "    <tr>\n",
       "      <th>3</th>\n",
       "      <td>1230.500000</td>\n",
       "      <td>0.000</td>\n",
       "      <td>0.000</td>\n",
       "      <td>0.00</td>\n",
       "      <td>371.900000</td>\n",
       "      <td>478.200000</td>\n",
       "      <td>0.0</td>\n",
       "      <td>0.0000</td>\n",
       "      <td>0.00</td>\n",
       "      <td>0.000000</td>\n",
       "      <td>0.00</td>\n",
       "    </tr>\n",
       "    <tr>\n",
       "      <th>4</th>\n",
       "      <td>8225.300000</td>\n",
       "      <td>0.000</td>\n",
       "      <td>0.000</td>\n",
       "      <td>0.00</td>\n",
       "      <td>4965.700000</td>\n",
       "      <td>2213.350000</td>\n",
       "      <td>0.0</td>\n",
       "      <td>0.0000</td>\n",
       "      <td>0.00</td>\n",
       "      <td>0.000000</td>\n",
       "      <td>2752.35</td>\n",
       "    </tr>\n",
       "  </tbody>\n",
       "</table>\n",
       "</div>"
      ],
      "text/plain": [
       "   Sum-Avg-Р811  Sum-Avg-Р812  Sum-Avg-Р813  Sum-Avg-Р814  Sum-Avg-Р815  \\\n",
       "0   1918.825000      8954.625        33.725       1796.25  11138.525000   \n",
       "1   6811.933333         0.000         0.000          0.00  79440.066667   \n",
       "2  71255.825000         0.000         0.000          0.00  51530.400000   \n",
       "3   1230.500000         0.000         0.000          0.00    371.900000   \n",
       "4   8225.300000         0.000         0.000          0.00   4965.700000   \n",
       "\n",
       "   Sum-Avg-Р821  Sum-Avg-Р822  Sum-Avg-Р823  Sum-Avg-Р824  Sum-Avg-Р825  \\\n",
       "0  25412.325000         130.3       30.0000         18.85     17.200000   \n",
       "1   9480.033333           0.0      815.1000          0.00  48562.933333   \n",
       "2  87166.625000           0.0     4957.3925          0.00  41171.825000   \n",
       "3    478.200000           0.0        0.0000          0.00      0.000000   \n",
       "4   2213.350000           0.0        0.0000          0.00      0.000000   \n",
       "\n",
       "   Sum-Avg-Р826  \n",
       "0          0.00  \n",
       "1          0.00  \n",
       "2       6267.70  \n",
       "3          0.00  \n",
       "4       2752.35  "
      ]
     },
     "metadata": {},
     "output_type": "display_data"
    }
   ],
   "source": [
    "dataN = data.select_dtypes(['float','int']).copy()\n",
    "display(dataN.head())"
   ]
  },
  {
   "cell_type": "code",
   "execution_count": 43,
   "id": "8e9e2fad",
   "metadata": {},
   "outputs": [
    {
     "name": "stdout",
     "output_type": "stream",
     "text": [
      "Chastn corr coef =  0.20170375907165827\n"
     ]
    }
   ],
   "source": [
    "corr = np.array(dataN.corr())\n",
    "\n",
    "def matrix_minor(arr, i, j):\n",
    "    return np.delete(np.delete(arr,i,axis=0), j, axis=1)\n",
    "\n",
    "stolbName = {k:v for k,v in zip(dataN.columns,list(range(dataN.shape[1])))}\n",
    "\n",
    "i=stolbName['Sum-Avg-Р823']\n",
    "j=stolbName['Sum-Avg-Р822']\n",
    "\n",
    "minor_ij =  matrix_minor(corr,i,j)\n",
    "minor_ii =  matrix_minor(corr,i,i)\n",
    "minor_jj =  matrix_minor(corr,j,j)\n",
    "\n",
    "A_ij = (-1)**(i+j)*np.linalg.det(minor_ij)\n",
    "A_ii = np.linalg.det(minor_ii)\n",
    "A_jj = np.linalg.det(minor_jj)\n",
    "\n",
    "ChCorrCoef = -A_ij/sqrt(A_ii*A_jj)\n",
    "print('Chastn corr coef = ',ChCorrCoef)"
   ]
  },
  {
   "cell_type": "markdown",
   "id": "963c54a0",
   "metadata": {},
   "source": [
    "# Задание 6"
   ]
  },
  {
   "cell_type": "markdown",
   "id": "2622f2a0",
   "metadata": {},
   "source": [
    "Коэффициент Спирмена"
   ]
  },
  {
   "cell_type": "code",
   "execution_count": 45,
   "id": "b6b21a11",
   "metadata": {},
   "outputs": [
    {
     "name": "stdout",
     "output_type": "stream",
     "text": [
      "Nabl  0.22961153140576326\n",
      "Crit  0.09616309941055128\n"
     ]
    }
   ],
   "source": [
    "from collections import Counter\n",
    "\n",
    "dataRank = data[['Sum-Avg-Р823','Sum-Avg-Р822']].rank()\n",
    "\n",
    "def Tx(series):\n",
    "    chastot = np.array(list(Counter(series).values()))\n",
    "    T = 0.5*(chastot**3-chastot).sum()\n",
    "    return T\n",
    "\n",
    "a = 1/6*(dataRank.shape[0]**3 - dataRank.shape[0])\n",
    "s = ((dataRank['Sum-Avg-Р823']-dataRank['Sum-Avg-Р822'])**2).sum()\n",
    "Tx1 = Tx(data['Sum-Avg-Р823'])\n",
    "Tx2 = Tx(data['Sum-Avg-Р822'])\n",
    "\n",
    "SpearmanCorr = (a-s-Tx1-Tx2) / (sqrt((a- 2*Tx1)* (a - 2*Tx2)))\n",
    "Tcrit = t.ppf(1 - 0.05, dataRank.shape[0]-2)*sqrt((1-SpearmanCorr**2)/(dataRank.shape[0]-2))\n",
    "\n",
    "print('Nabl ',abs(SpearmanCorr))\n",
    "print('Crit ',Tcrit)"
   ]
  },
  {
   "cell_type": "markdown",
   "id": "9159b5da",
   "metadata": {},
   "source": [
    "Наблюдаемое значение > критического => нулевая гипотеза отвергается с вероятностью ошибки 0,95"
   ]
  },
  {
   "cell_type": "markdown",
   "id": "5a26c5d4",
   "metadata": {},
   "source": [
    "Коэффициент Кендалла"
   ]
  },
  {
   "cell_type": "code",
   "execution_count": 54,
   "id": "2a673fef",
   "metadata": {},
   "outputs": [
    {
     "name": "stdout",
     "output_type": "stream",
     "text": [
      "Kendall corr coef =  0.33220640569395016\n",
      "Kendall corr 2/3 Sprearman corr :  0.15307435427050883\n"
     ]
    }
   ],
   "source": [
    "def MyKendall(dataFrame,columns):\n",
    "    P=0\n",
    "    Q=0\n",
    "\n",
    "    dataRank = dataFrame[columns].rank()\n",
    "    dataRanksort = dataRank.sort_values(by=columns[0],axis=0, ascending=True)\n",
    "    \n",
    "    for i in range(dataRanksort.shape[0]):\n",
    "        df1 = dataRanksort.iloc[i+1:,1]\n",
    "        P+= df1[df1 > dataRanksort.iloc[i,1]].count()\n",
    "    \n",
    "    for i in range(dataRanksort.shape[0]):\n",
    "        df1 = dataRanksort.iloc[i+1:,1]\n",
    "        Q+= df1[df1 < dataRanksort.iloc[i,1]].count()\n",
    "    \n",
    "    S=P-Q\n",
    "    n = dataRanksort.shape[0]\n",
    "    \n",
    "    return 2*S/(n*(n-1))\n",
    "\n",
    "KebndallCorr = MyKendall(data,['Sum-Avg-Р823','Sum-Avg-Р822'])\n",
    "\n",
    "print('Kendall corr coef = ',KebndallCorr)\n",
    "print('Kendall corr 2/3 Sprearman corr : ', (2/3)*abs(SpearmanCorr))"
   ]
  },
  {
   "cell_type": "code",
   "execution_count": null,
   "id": "8aaf3352",
   "metadata": {},
   "outputs": [],
   "source": []
  }
 ],
 "metadata": {
  "kernelspec": {
   "display_name": "Python 3 (ipykernel)",
   "language": "python",
   "name": "python3"
  },
  "language_info": {
   "codemirror_mode": {
    "name": "ipython",
    "version": 3
   },
   "file_extension": ".py",
   "mimetype": "text/x-python",
   "name": "python",
   "nbconvert_exporter": "python",
   "pygments_lexer": "ipython3",
   "version": "3.9.7"
  }
 },
 "nbformat": 4,
 "nbformat_minor": 5
}
